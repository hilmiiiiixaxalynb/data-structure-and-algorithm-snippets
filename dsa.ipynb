{
 "cells": [
  {
   "cell_type": "markdown",
   "id": "1f0fa51a",
   "metadata": {},
   "source": [
    "### Indexing"
   ]
  },
  {
   "cell_type": "code",
   "execution_count": 1,
   "id": "f8784b67",
   "metadata": {},
   "outputs": [
    {
     "name": "stdout",
     "output_type": "stream",
     "text": [
      "A\n",
      "gibran\n",
      "janggar\n"
     ]
    }
   ],
   "source": [
    "# string\n",
    "x = \"Ali\"\n",
    "print(x[0])\n",
    "\n",
    "# list\n",
    "x = ['gibran', 'bahlil', 'prabowok', 'jokowi']\n",
    "print(x[0])\n",
    "\n",
    "# tuple\n",
    "x = ('anis', 'tom lembong', 'janggar', 'mafud')\n",
    "print(x[2])"
   ]
  },
  {
   "cell_type": "markdown",
   "id": "f4096407",
   "metadata": {},
   "source": [
    "### Slicing\n",
    "slicing substring, sublist, subtuples using indexes. <br>\n",
    "[start : stop : step]"
   ]
  },
  {
   "cell_type": "code",
   "execution_count": 2,
   "id": "0f96b3c1",
   "metadata": {},
   "outputs": [
    {
     "name": "stdout",
     "output_type": "stream",
     "text": [
      "omp\n",
      "opt\n",
      "puter\n",
      "compu\n",
      "ter\n",
      "comp\n"
     ]
    }
   ],
   "source": [
    "x = 'computer'\n",
    "print(x[1:4])\n",
    "print(x[1:6:2])\n",
    "print(x[3:])\n",
    "print(x[:5])\n",
    "print(x[-3:])\n",
    "print(x[:-4])"
   ]
  },
  {
   "cell_type": "markdown",
   "id": "72dd09ee",
   "metadata": {},
   "source": [
    "### Adding"
   ]
  },
  {
   "cell_type": "code",
   "execution_count": 3,
   "id": "54e566e5",
   "metadata": {},
   "outputs": [
    {
     "name": "stdout",
     "output_type": "stream",
     "text": [
      "ejenali\n",
      "['bahlil', 'budi ari', 'gibran', 'prabowok']\n"
     ]
    },
    {
     "data": {
      "text/plain": [
       "('budi ari', 'bahlil', 'prabowok', 'jendral te en i')"
      ]
     },
     "execution_count": 3,
     "metadata": {},
     "output_type": "execute_result"
    }
   ],
   "source": [
    "# string\n",
    "x = \"ejen\" + \"ali\"\n",
    "print(x)\n",
    "# list\n",
    "x = ['bahlil', 'budi ari', 'gibran'] + ['prabowok']\n",
    "print(x)\n",
    "# tuple\n",
    "x = ('budi ari', 'bahlil', 'prabowok') + ('jendral te en i',)\n",
    "x"
   ]
  },
  {
   "cell_type": "markdown",
   "id": "bef553da",
   "metadata": {},
   "source": [
    "### Multiplying"
   ]
  },
  {
   "cell_type": "code",
   "execution_count": 4,
   "id": "b447fea0",
   "metadata": {},
   "outputs": [
    {
     "name": "stdout",
     "output_type": "stream",
     "text": [
      "alialiali\n",
      "[1, 2, 1, 2, 1, 2]\n",
      "(23, 22, 23, 22, 23, 22)\n"
     ]
    }
   ],
   "source": [
    "# string\n",
    "x = 'ali' * 3\n",
    "print(x)\n",
    "# list\n",
    "x = [1,2] * 3\n",
    "print(x)\n",
    "# tuple\n",
    "x = (23, 22) * 3\n",
    "print(x)"
   ]
  },
  {
   "cell_type": "markdown",
   "id": "ea2ce59b",
   "metadata": {},
   "source": [
    "### Checking Membership"
   ]
  },
  {
   "cell_type": "code",
   "execution_count": 5,
   "id": "f1fe70db",
   "metadata": {},
   "outputs": [
    {
     "name": "stdout",
     "output_type": "stream",
     "text": [
      "True\n",
      "False\n",
      "True\n"
     ]
    }
   ],
   "source": [
    "# sting\n",
    "x = \"ali\"\n",
    "print('a' in x)\n",
    "# list\n",
    "x = ['prabowok', 'anis', 'janggar']\n",
    "print('prabowok' not in x)\n",
    "# tuples\n",
    "x = ('ivan gunawan', 'hotman paris') + ('uni bakwan',)\n",
    "print('uni bakwan' in x)"
   ]
  },
  {
   "cell_type": "markdown",
   "id": "91b18755",
   "metadata": {},
   "source": [
    "### Enumerate"
   ]
  },
  {
   "cell_type": "code",
   "execution_count": 6,
   "id": "bb522d09",
   "metadata": {},
   "outputs": [
    {
     "name": "stdout",
     "output_type": "stream",
     "text": [
      "4\n",
      "6\n",
      "8\n",
      "--------------\n",
      "0 4\n",
      "1 6\n",
      "2 8\n"
     ]
    }
   ],
   "source": [
    "x = [4,6,8]\n",
    "for item in x:\n",
    "    print(item)\n",
    "print('--------------')\n",
    "x = [4,6,8]\n",
    "for index, item in enumerate(x):\n",
    "    print(index, item)"
   ]
  },
  {
   "cell_type": "markdown",
   "id": "a4d2aad1",
   "metadata": {},
   "source": [
    "### Length"
   ]
  },
  {
   "cell_type": "code",
   "execution_count": 7,
   "id": "e2951c61",
   "metadata": {},
   "outputs": [
    {
     "name": "stdout",
     "output_type": "stream",
     "text": [
      "3\n",
      "4\n",
      "5\n"
     ]
    }
   ],
   "source": [
    "# string\n",
    "x = \"Ali\"\n",
    "print(len(x))\n",
    "# list\n",
    "x = ['Ali', 'victor','bakar', 'alicia']\n",
    "print(len(x))\n",
    "# tuple\n",
    "x = ('mangga', 'apel', 'semangka', 'melon', 'anggur')\n",
    "print(len(x))\n"
   ]
  },
  {
   "cell_type": "markdown",
   "id": "0edba650",
   "metadata": {},
   "source": [
    "### Min"
   ]
  },
  {
   "cell_type": "code",
   "execution_count": 8,
   "id": "ad00f3fd",
   "metadata": {},
   "outputs": [
    {
     "name": "stdout",
     "output_type": "stream",
     "text": [
      "a\n",
      "ali\n",
      "ac\n",
      "(1, 3, 4, 5, 6)\n",
      "1921\n",
      "111911\n"
     ]
    }
   ],
   "source": [
    "# string\n",
    "x = \"ssa\"\n",
    "print(min(x))\n",
    "# list\n",
    "x = ['ali', 'bakar', 'alicia']\n",
    "print(min(x))\n",
    "# tuple\n",
    "x = ('xn', 'jj', 'ac')\n",
    "print(min(x))\n",
    "# number\n",
    "z = 1, 3, 4, 5, 6\n",
    "print((z))\n",
    "z = [2121, 32121, 5432, 1921, 111911]\n",
    "print(min(z))\n",
    "print(max(z))"
   ]
  },
  {
   "cell_type": "markdown",
   "id": "3ddef64b",
   "metadata": {},
   "source": [
    "### Sum"
   ]
  },
  {
   "cell_type": "code",
   "execution_count": 9,
   "id": "e6364a41",
   "metadata": {},
   "outputs": [
    {
     "name": "stdout",
     "output_type": "stream",
     "text": [
      "23\n",
      "3\n"
     ]
    }
   ],
   "source": [
    "x = [1, 2, 10, 10]\n",
    "print(sum(x))\n",
    "print(sum(x [:2]))"
   ]
  },
  {
   "cell_type": "markdown",
   "id": "fb86db0a",
   "metadata": {},
   "source": [
    "### Sort"
   ]
  },
  {
   "cell_type": "code",
   "execution_count": 10,
   "id": "c180c99e",
   "metadata": {},
   "outputs": [
    {
     "name": "stdout",
     "output_type": "stream",
     "text": [
      "['a', 'i', 'l']\n",
      "['ali', 'alicia', 'bakar']\n",
      "[1, 2, 4, 7, 8, 8, 8, 10]\n"
     ]
    }
   ],
   "source": [
    "# string\n",
    "x = \"ali\"\n",
    "print(sorted(x))\n",
    "# list\n",
    "x = ['ali', 'bakar', 'alicia']\n",
    "print(sorted(x))\n",
    "\n",
    "# numbrr# numbrr\n",
    "z = [1 , 2, 7, 4, 8, 8, 8, 10]\n",
    "print(sorted(z))"
   ]
  },
  {
   "cell_type": "markdown",
   "id": "a6bd27bc",
   "metadata": {},
   "source": [
    "### count"
   ]
  },
  {
   "cell_type": "code",
   "execution_count": 11,
   "id": "29948c1d",
   "metadata": {},
   "outputs": [
    {
     "name": "stdout",
     "output_type": "stream",
     "text": [
      "1\n",
      "2\n",
      "3\n"
     ]
    }
   ],
   "source": [
    "x = \"Ali\"\n",
    "print(x.count('A'))\n",
    "x = ['Ali', 'victor', 'Ali']\n",
    "print(x.count('Ali'))\n",
    "# numbrr\n",
    "z = [1121, 12, 12, 12, 124, 123]\n",
    "print(z.count(12))"
   ]
  },
  {
   "cell_type": "markdown",
   "id": "59684be3",
   "metadata": {},
   "source": [
    "### Index"
   ]
  },
  {
   "cell_type": "code",
   "execution_count": 12,
   "id": "8ce12734",
   "metadata": {},
   "outputs": [
    {
     "name": "stdout",
     "output_type": "stream",
     "text": [
      "2\n",
      "1\n",
      "5\n"
     ]
    }
   ],
   "source": [
    "x = \"Ali\"\n",
    "print(x.index('i'))\n",
    "x = ['Ali', 'bakar', 'cendol']\n",
    "print(x.index('bakar'))\n",
    "\n",
    "z = [1, 4, 8 ,6 , 4, 5]\n",
    "print(z.index(5))"
   ]
  },
  {
   "cell_type": "markdown",
   "id": "4d1693dd",
   "metadata": {},
   "source": [
    "### Unpacking"
   ]
  },
  {
   "cell_type": "code",
   "execution_count": 13,
   "id": "aa0e38aa",
   "metadata": {},
   "outputs": [
    {
     "name": "stdout",
     "output_type": "stream",
     "text": [
      "ali\n"
     ]
    }
   ],
   "source": [
    "x = ['ali', 'victor', 'alicia']\n",
    "a, b, c = x\n",
    "print(a)"
   ]
  },
  {
   "cell_type": "markdown",
   "id": "fe39f87a",
   "metadata": {},
   "source": [
    "## List"
   ]
  },
  {
   "cell_type": "code",
   "execution_count": 14,
   "id": "2d2cf5af",
   "metadata": {},
   "outputs": [
    {
     "name": "stdout",
     "output_type": "stream",
     "text": [
      "[]\n",
      "[2, 'Ali', 12, 1]\n"
     ]
    }
   ],
   "source": [
    "x = list()\n",
    "print(x)\n",
    "y = [2, 'Ali', 12, 1]\n",
    "print(y)\n",
    "tuple1 = (1, 2)\n",
    "z = list(tuple1)"
   ]
  },
  {
   "cell_type": "code",
   "execution_count": 15,
   "id": "ca0f7a8c",
   "metadata": {},
   "outputs": [
    {
     "name": "stdout",
     "output_type": "stream",
     "text": [
      "[1, 2, 3, 4, 5, 6, 7, 8, 9, 10]\n",
      "[2, 4, 6, 8, 10, 12, 14, 16, 18]\n"
     ]
    }
   ],
   "source": [
    "# list comperhension\n",
    "x = [x for x in range(1, 11)]\n",
    "print(x)\n",
    "\n",
    "z = [i*2 for i in range(10) if i > 0]\n",
    "print(z)"
   ]
  },
  {
   "cell_type": "markdown",
   "id": "b958f1ad",
   "metadata": {},
   "source": [
    "### Delete"
   ]
  },
  {
   "cell_type": "code",
   "execution_count": 16,
   "id": "bacbe78f",
   "metadata": {},
   "outputs": [
    {
     "name": "stdout",
     "output_type": "stream",
     "text": [
      "[12, 5, 8, 1, 14]\n"
     ]
    }
   ],
   "source": [
    "x = [12, 5, 8, 1, 14]\n",
    "print(x)\n",
    "del(x[1])"
   ]
  },
  {
   "cell_type": "code",
   "execution_count": 17,
   "id": "27188094",
   "metadata": {},
   "outputs": [],
   "source": [
    "del(x) # the x is no longer exist"
   ]
  },
  {
   "cell_type": "markdown",
   "id": "f76f903e",
   "metadata": {},
   "source": [
    "### Append"
   ]
  },
  {
   "cell_type": "code",
   "execution_count": 18,
   "id": "f657a76a",
   "metadata": {},
   "outputs": [
    {
     "data": {
      "text/plain": [
       "[1, 5, 6, 6, 7, 2, 9, 8, 'ali']"
      ]
     },
     "execution_count": 18,
     "metadata": {},
     "output_type": "execute_result"
    }
   ],
   "source": [
    "x = [1, 5, 6, 6, 7, 2, 9, 8]\n",
    "j = 'ali'\n",
    "x.append(j)\n",
    "x"
   ]
  },
  {
   "cell_type": "markdown",
   "id": "afab248e",
   "metadata": {},
   "source": [
    "### Extend"
   ]
  },
  {
   "cell_type": "code",
   "execution_count": 19,
   "id": "c246999b",
   "metadata": {},
   "outputs": [
    {
     "data": {
      "text/plain": [
       "[12, 3, 5, 1, 6, 12, 5]"
      ]
     },
     "execution_count": 19,
     "metadata": {},
     "output_type": "execute_result"
    }
   ],
   "source": [
    "x = [12, 3, 5, 1, 6]\n",
    "y = [12, 5]\n",
    "x.extend(y)\n",
    "x\n"
   ]
  },
  {
   "cell_type": "markdown",
   "id": "a57e17aa",
   "metadata": {},
   "source": [
    "### Insert"
   ]
  },
  {
   "cell_type": "code",
   "execution_count": 20,
   "id": "1f854a2c",
   "metadata": {},
   "outputs": [
    {
     "data": {
      "text/plain": [
       "['ali', 1, 2, 3, 4, 5, 6]"
      ]
     },
     "execution_count": 20,
     "metadata": {},
     "output_type": "execute_result"
    }
   ],
   "source": [
    "x = [1, 2, 3, 5, 6]\n",
    "x.insert(3, 4) # (position, items)\n",
    "x.insert(0, 'ali')\n",
    "x"
   ]
  },
  {
   "cell_type": "markdown",
   "id": "43911af6",
   "metadata": {},
   "source": [
    "### pop"
   ]
  },
  {
   "cell_type": "code",
   "execution_count": 21,
   "id": "5ede034d",
   "metadata": {},
   "outputs": [
    {
     "name": "stdout",
     "output_type": "stream",
     "text": [
      "[6, 3, 5]\n",
      "5\n"
     ]
    }
   ],
   "source": [
    "x = [1, 6, 3, 5, 2]\n",
    "x.pop() # pop out last list\n",
    "x.pop(0) # pop out by index\n",
    "print(x) # popped\n",
    "print(x.pop())"
   ]
  },
  {
   "cell_type": "markdown",
   "id": "27c17bcd",
   "metadata": {},
   "source": [
    "### Remove"
   ]
  },
  {
   "cell_type": "code",
   "execution_count": 22,
   "id": "d8b7951b",
   "metadata": {},
   "outputs": [
    {
     "data": {
      "text/plain": [
       "[123, 2, 5, 7, 1]"
      ]
     },
     "execution_count": 22,
     "metadata": {},
     "output_type": "execute_result"
    }
   ],
   "source": [
    "x = [123, 1, 2, 5, 7, 1]\n",
    "x.remove(1)\n",
    "x"
   ]
  },
  {
   "cell_type": "markdown",
   "id": "77510e91",
   "metadata": {},
   "source": [
    "### Reverse"
   ]
  },
  {
   "cell_type": "code",
   "execution_count": 23,
   "id": "d8c0ee66",
   "metadata": {},
   "outputs": [
    {
     "data": {
      "text/plain": [
       "[4, 3, 2, 1]"
      ]
     },
     "execution_count": 23,
     "metadata": {},
     "output_type": "execute_result"
    }
   ],
   "source": [
    "x = [1, 2, 3, 4]\n",
    "x.reverse()\n",
    "x"
   ]
  },
  {
   "cell_type": "code",
   "execution_count": 24,
   "id": "d59b9df5",
   "metadata": {},
   "outputs": [
    {
     "data": {
      "text/plain": [
       "[43, 23, 11, 7, 6, 5, 4, 3, 2, 1]"
      ]
     },
     "execution_count": 24,
     "metadata": {},
     "output_type": "execute_result"
    }
   ],
   "source": [
    "x = [1, 2, 3, 4, 5, 11, 23, 43, 6, 7]\n",
    "x.sort(reverse=True)\n",
    "x"
   ]
  },
  {
   "cell_type": "markdown",
   "id": "2c331884",
   "metadata": {},
   "source": [
    "# Tuple <br>\n",
    "- not immutable <br>\n",
    "- faster than list <br>\n",
    "- useful for fixed data"
   ]
  },
  {
   "cell_type": "markdown",
   "id": "74e403cf",
   "metadata": {},
   "source": [
    "<b>constructor</b> - how to make tuple"
   ]
  },
  {
   "cell_type": "code",
   "execution_count": 25,
   "id": "9b9cb7de",
   "metadata": {},
   "outputs": [
    {
     "name": "stdout",
     "output_type": "stream",
     "text": [
      "()\n",
      "(1, 2, 3)\n",
      "(1, 2, 3, 4) <class 'type'>\n",
      "(100,) <class 'type'>\n",
      "('Ali',) <class 'type'>\n"
     ]
    }
   ],
   "source": [
    "x = ()\n",
    "print(x)\n",
    "\n",
    "x = (1, 2, 3)\n",
    "print(x)\n",
    "\n",
    "x = 1, 2, 3, 4\n",
    "print(x, type)\n",
    "\n",
    "x = 100,\n",
    "print(x, type)\n",
    "\n",
    "z = 'Ali',\n",
    "print(z, type)"
   ]
  },
  {
   "cell_type": "code",
   "execution_count": 27,
   "id": "6944c5c5",
   "metadata": {},
   "outputs": [
    {
     "data": {
      "text/plain": [
       "tuple"
      ]
     },
     "execution_count": 27,
     "metadata": {},
     "output_type": "execute_result"
    }
   ],
   "source": [
    "# list to tuple\n",
    "x = [1, 2, 3, 4]\n",
    "z = tuple(x)\n",
    "type(z)"
   ]
  },
  {
   "cell_type": "markdown",
   "id": "3a36ab27",
   "metadata": {},
   "source": [
    "<b>Tuple are immutable</b>"
   ]
  },
  {
   "cell_type": "code",
   "execution_count": 130,
   "id": "7a59e91f",
   "metadata": {},
   "outputs": [
    {
     "name": "stdout",
     "output_type": "stream",
     "text": [
      "4\n",
      "([1, 2, 4], 1, 4, 5, [1, 1, 5, 6], 1)\n",
      "([1, 2, 4], 1, 4, 5, [1, 1, 5, 6], 1, 10)\n"
     ]
    }
   ],
   "source": [
    "x = (1, 2, 3, 4)\n",
    "# print(x[1] = 5) # error\n",
    "# del(x[1]) # error\n",
    "\n",
    "# tuple if inside it have a list\n",
    "z = ([1, 2, 4], 1, 4, 5, [1, 1, 5, 6])\n",
    "print(z[0][2])\n",
    "z[4][3]\n",
    "\n",
    "# concatinate\n",
    "z += 1,\n",
    "print(z)\n",
    "\n",
    "# or\n",
    "i = 10,\n",
    "j = z + i\n",
    "print(j)"
   ]
  }
 ],
 "metadata": {
  "kernelspec": {
   "display_name": "Python 3",
   "language": "python",
   "name": "python3"
  },
  "language_info": {
   "codemirror_mode": {
    "name": "ipython",
    "version": 3
   },
   "file_extension": ".py",
   "mimetype": "text/x-python",
   "name": "python",
   "nbconvert_exporter": "python",
   "pygments_lexer": "ipython3",
   "version": "3.10.12"
  }
 },
 "nbformat": 4,
 "nbformat_minor": 5
}
